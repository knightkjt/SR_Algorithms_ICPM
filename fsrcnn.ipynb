{
  "nbformat": 4,
  "nbformat_minor": 0,
  "metadata": {
    "colab": {
      "name": "fsrcnn.ipynb",
      "version": "0.3.2",
      "provenance": [],
      "collapsed_sections": [],
      "include_colab_link": true
    },
    "kernelspec": {
      "name": "python3",
      "display_name": "Python 3"
    },
    "accelerator": "GPU"
  },
  "cells": [
    {
      "cell_type": "markdown",
      "metadata": {
        "id": "view-in-github",
        "colab_type": "text"
      },
      "source": [
        "<a href=\"https://colab.research.google.com/github/knightkjt/SR_Algorithms_ICPM/blob/master/fsrcnn.ipynb\" target=\"_parent\"><img src=\"https://colab.research.google.com/assets/colab-badge.svg\" alt=\"Open In Colab\"/></a>"
      ]
    },
    {
      "cell_type": "code",
      "metadata": {
        "id": "8I30YegE02jB",
        "colab_type": "code",
        "outputId": "f87d87d5-145c-452f-eecf-29007a192c71",
        "colab": {
          "base_uri": "https://localhost:8080/",
          "height": 127
        }
      },
      "source": [
        "!pip install -U -q PyDrive\n",
        "\n",
        "from pydrive.auth import GoogleAuth\n",
        "from pydrive.drive import GoogleDrive\n",
        "from google.colab import auth\n",
        "from oauth2client.client import GoogleCredentials\n",
        "\n",
        "# 1. Authenticate and create the PyDrive client.\n",
        "auth.authenticate_user()\n",
        "gauth = GoogleAuth()\n",
        "gauth.credentials = GoogleCredentials.get_application_default()\n",
        "drive = GoogleDrive(gauth)\n",
        "\n",
        "import os\n",
        "import sys\n",
        "from google.colab import files\n",
        "from google.colab import drive\n",
        "\n",
        "# mount google drive\n",
        "drive.mount('/content/gdrive')\n"
      ],
      "execution_count": 1,
      "outputs": [
        {
          "output_type": "stream",
          "text": [
            "Go to this URL in a browser: https://accounts.google.com/o/oauth2/auth?client_id=947318989803-6bn6qk8qdgf4n4g3pfee6491hc0brc4i.apps.googleusercontent.com&redirect_uri=urn%3Aietf%3Awg%3Aoauth%3A2.0%3Aoob&scope=email%20https%3A%2F%2Fwww.googleapis.com%2Fauth%2Fdocs.test%20https%3A%2F%2Fwww.googleapis.com%2Fauth%2Fdrive%20https%3A%2F%2Fwww.googleapis.com%2Fauth%2Fdrive.photos.readonly%20https%3A%2F%2Fwww.googleapis.com%2Fauth%2Fpeopleapi.readonly&response_type=code\n",
            "\n",
            "Enter your authorization code:\n",
            "··········\n",
            "Mounted at /content/gdrive\n"
          ],
          "name": "stdout"
        }
      ]
    },
    {
      "cell_type": "code",
      "metadata": {
        "id": "iU5aEtd53GZt",
        "colab_type": "code",
        "colab": {
          "base_uri": "https://localhost:8080/",
          "height": 233
        },
        "outputId": "0134b00c-724c-47d2-f2d8-b41a05fd0109"
      },
      "source": [
        "%cd gdrive\n",
        "%cd My\\ Drive\n",
        "%cd 'Colab Notebooks'\n",
        "%cd SR\n",
        "%cd SR_Algorithms_ICPM\n",
        "#!git clone https://github.com/knightkjt/SR_Algorithms_ICPM.git\n",
        "!ls"
      ],
      "execution_count": 14,
      "outputs": [
        {
          "output_type": "stream",
          "text": [
            "[Errno 2] No such file or directory: 'gdrive'\n",
            "/content/gdrive/My Drive/Colab Notebooks/SR\n",
            "[Errno 2] No such file or directory: 'My Drive'\n",
            "/content/gdrive/My Drive/Colab Notebooks/SR\n",
            "[Errno 2] No such file or directory: 'Colab Notebooks'\n",
            "/content/gdrive/My Drive/Colab Notebooks/SR\n",
            "[Errno 2] No such file or directory: 'SR'\n",
            "/content/gdrive/My Drive/Colab Notebooks/SR\n",
            "/content/gdrive/My Drive/Colab Notebooks/SR/SR_Algorithms_ICPM\n",
            "dataset  EDSR\t  main.py\t   SRCNN\tsuper_resolve.py\n",
            "DBPN\t FSRCNN   progress_bar.py  SRGAN\tVDSR\n",
            "DRCN\t LICENSE  README.md\t   SubPixelCNN\n"
          ],
          "name": "stdout"
        }
      ]
    },
    {
      "cell_type": "code",
      "metadata": {
        "id": "-EzbZp9mAqHO",
        "colab_type": "code",
        "outputId": "749e672d-8b6e-42fe-d860-400c1f18728e",
        "colab": {
          "base_uri": "https://localhost:8080/",
          "height": 107
        }
      },
      "source": [
        "import os\n",
        "import sys\n",
        "\n",
        "def getLocalFiles(path_): \n",
        "    _files = os.listdir(path_)\n",
        "    print (_files)\n",
        "    if len(_files) >0: \n",
        "        for l in _files:\n",
        "            ext = l.lower().split('.')[-1]\n",
        "            k = path_ + l\n",
        "            #print (ext)\n",
        "            if (not os.path.isdir(k) and not ext == 'ipynb'):\n",
        "                #import pdb;pdb.set_trace()\n",
        "                v = open(k,'rb').read()\n",
        "                open(k,'wb').write(v) \n",
        "!ls\n",
        "getLocalFiles('./')   \n",
        "getLocalFiles('./dataset/')\n",
        "        \n"
      ],
      "execution_count": 15,
      "outputs": [
        {
          "output_type": "stream",
          "text": [
            "dataset  EDSR\t  main.py\t   SRCNN\tsuper_resolve.py\n",
            "DBPN\t FSRCNN   progress_bar.py  SRGAN\tVDSR\n",
            "DRCN\t LICENSE  README.md\t   SubPixelCNN\n",
            "['.git', '.gitignore', 'DBPN', 'DRCN', 'EDSR', 'FSRCNN', 'LICENSE', 'README.md', 'SRCNN', 'SRGAN', 'SubPixelCNN', 'VDSR', 'dataset', 'main.py', 'progress_bar.py', 'super_resolve.py']\n",
            "['data.py', 'dataset.py']\n"
          ],
          "name": "stdout"
        }
      ]
    },
    {
      "cell_type": "code",
      "metadata": {
        "id": "7yDGsEg1Erh7",
        "colab_type": "code",
        "colab": {}
      },
      "source": [
        "!touch dataset/__init__.py\n",
        "from dataset.data import *\n"
      ],
      "execution_count": 0,
      "outputs": []
    },
    {
      "cell_type": "markdown",
      "metadata": {
        "id": "zOOJ8yUVoWYx",
        "colab_type": "text"
      },
      "source": [
        "In order to run ''.m\" matlab file, you should install 'octave liboctave-dev'.\n",
        "When runtime error is issued because of 'undefined imresize', need to install image pkg on octave.\n",
        "Follow instructions below commented"
      ]
    },
    {
      "cell_type": "code",
      "metadata": {
        "id": "bqoYVCfejCSH",
        "colab_type": "code",
        "outputId": "057ed1f4-2b50-435d-e590-8ebc99f261cb",
        "colab": {
          "base_uri": "https://localhost:8080/",
          "height": 1000
        }
      },
      "source": [
        "#python3 main.py -m [sub/srcnn/cdsr/edsr/fsrcnn/drcn/srgan/dbpn]\n",
        "!python3 main.py -m fsrcnn"
      ],
      "execution_count": 34,
      "outputs": [
        {
          "output_type": "stream",
          "text": [
            "===> Loading datasets\n",
            "\n",
            "===> Epoch 1 starts:\n",
            " 200/200 [================================================================================>]  Step: 14ms | Tot: 3s102ms | Loss: 0.1554\n",
            "    Average Loss: 0.1554\n",
            " 100/100 [================================================================================>]  Step: 7ms | Tot: 728ms | PSNR: 20.2149\n",
            "    Average PSNR: 20.2149 dB\n",
            "\n",
            "===> Epoch 2 starts:\n",
            " 200/200 [================================================================================>]  Step: 13ms | Tot: 3s82ms | Loss: 0.0095\n",
            "    Average Loss: 0.0095\n",
            " 100/100 [================================================================================>]  Step: 7ms | Tot: 738ms | PSNR: 21.2906\n",
            "    Average PSNR: 21.2906 dB\n",
            "\n",
            "===> Epoch 3 starts:\n",
            " 200/200 [================================================================================>]  Step: 20ms | Tot: 3s154ms | Loss: 0.0076\n",
            "    Average Loss: 0.0076\n",
            " 100/100 [================================================================================>]  Step: 7ms | Tot: 779ms | PSNR: 22.2037\n",
            "    Average PSNR: 22.2037 dB\n",
            "\n",
            "===> Epoch 4 starts:\n",
            " 200/200 [================================================================================>]  Step: 14ms | Tot: 3s268ms | Loss: 0.0072\n",
            "    Average Loss: 0.0072\n",
            " 100/100 [================================================================================>]  Step: 7ms | Tot: 769ms | PSNR: 20.1443\n",
            "    Average PSNR: 20.1443 dB\n",
            "\n",
            "===> Epoch 5 starts:\n",
            " 200/200 [================================================================================>]  Step: 17ms | Tot: 3s164ms | Loss: 0.0062\n",
            "    Average Loss: 0.0062\n",
            " 100/100 [================================================================================>]  Step: 9ms | Tot: 760ms | PSNR: 22.9393\n",
            "    Average PSNR: 22.9393 dB\n",
            "\n",
            "===> Epoch 6 starts:\n",
            " 200/200 [================================================================================>]  Step: 14ms | Tot: 3s159ms | Loss: 0.0059\n",
            "    Average Loss: 0.0059\n",
            " 100/100 [================================================================================>]  Step: 7ms | Tot: 759ms | PSNR: 23.1144\n",
            "    Average PSNR: 23.1144 dB\n",
            "\n",
            "===> Epoch 7 starts:\n",
            " 200/200 [================================================================================>]  Step: 14ms | Tot: 3s106ms | Loss: 0.0078\n",
            "    Average Loss: 0.0078\n",
            " 100/100 [================================================================================>]  Step: 7ms | Tot: 731ms | PSNR: 21.9742\n",
            "    Average PSNR: 21.9742 dB\n",
            "\n",
            "===> Epoch 8 starts:\n",
            " 200/200 [================================================================================>]  Step: 15ms | Tot: 3s95ms | Loss: 0.0061\n",
            "    Average Loss: 0.0061\n",
            " 100/100 [================================================================================>]  Step: 7ms | Tot: 776ms | PSNR: 23.2430\n",
            "    Average PSNR: 23.2430 dB\n",
            "\n",
            "===> Epoch 9 starts:\n",
            " 200/200 [================================================================================>]  Step: 14ms | Tot: 3s170ms | Loss: 0.0053\n",
            "    Average Loss: 0.0053\n",
            " 100/100 [================================================================================>]  Step: 7ms | Tot: 729ms | PSNR: 22.6793\n",
            "    Average PSNR: 22.6793 dB\n",
            "\n",
            "===> Epoch 10 starts:\n",
            " 200/200 [================================================================================>]  Step: 14ms | Tot: 3s143ms | Loss: 0.0052\n",
            "    Average Loss: 0.0052\n",
            " 100/100 [================================================================================>]  Step: 7ms | Tot: 746ms | PSNR: 23.6784\n",
            "    Average PSNR: 23.6784 dB\n",
            "\n",
            "===> Epoch 11 starts:\n",
            " 200/200 [================================================================================>]  Step: 15ms | Tot: 3s41ms | Loss: 0.0050\n",
            "    Average Loss: 0.0050\n",
            " 100/100 [================================================================================>]  Step: 7ms | Tot: 765ms | PSNR: 23.7423\n",
            "    Average PSNR: 23.7423 dB\n",
            "\n",
            "===> Epoch 12 starts:\n",
            " 200/200 [================================================================================>]  Step: 14ms | Tot: 3s143ms | Loss: 0.0049\n",
            "    Average Loss: 0.0049\n",
            " 100/100 [================================================================================>]  Step: 7ms | Tot: 726ms | PSNR: 23.7535\n",
            "    Average PSNR: 23.7535 dB\n",
            "\n",
            "===> Epoch 13 starts:\n",
            " 200/200 [================================================================================>]  Step: 15ms | Tot: 3s119ms | Loss: 0.0093\n",
            "    Average Loss: 0.0093\n",
            " 100/100 [================================================================================>]  Step: 7ms | Tot: 756ms | PSNR: 21.1726\n",
            "    Average PSNR: 21.1726 dB\n",
            "\n",
            "===> Epoch 14 starts:\n",
            " 200/200 [================================================================================>]  Step: 15ms | Tot: 3s205ms | Loss: 0.0059\n",
            "    Average Loss: 0.0059\n",
            " 100/100 [================================================================================>]  Step: 7ms | Tot: 736ms | PSNR: 23.4371\n",
            "    Average PSNR: 23.4371 dB\n",
            "\n",
            "===> Epoch 15 starts:\n",
            " 200/200 [================================================================================>]  Step: 15ms | Tot: 3s96ms | Loss: 0.0058\n",
            "    Average Loss: 0.0058\n",
            " 100/100 [================================================================================>]  Step: 7ms | Tot: 775ms | PSNR: 23.6403\n",
            "    Average PSNR: 23.6403 dB\n",
            "\n",
            "===> Epoch 16 starts:\n",
            " 200/200 [================================================================================>]  Step: 15ms | Tot: 3s176ms | Loss: 0.0052\n",
            "    Average Loss: 0.0052\n",
            " 100/100 [================================================================================>]  Step: 9ms | Tot: 760ms | PSNR: 22.8126\n",
            "    Average PSNR: 22.8126 dB\n",
            "\n",
            "===> Epoch 17 starts:\n",
            " 200/200 [================================================================================>]  Step: 14ms | Tot: 3s175ms | Loss: 0.0055\n",
            "    Average Loss: 0.0055\n",
            " 100/100 [================================================================================>]  Step: 7ms | Tot: 749ms | PSNR: 21.2568\n",
            "    Average PSNR: 21.2568 dB\n",
            "\n",
            "===> Epoch 18 starts:\n",
            " 200/200 [================================================================================>]  Step: 15ms | Tot: 3s190ms | Loss: 0.0051\n",
            "    Average Loss: 0.0051\n",
            " 100/100 [================================================================================>]  Step: 7ms | Tot: 742ms | PSNR: 23.9064\n",
            "    Average PSNR: 23.9064 dB\n",
            "\n",
            "===> Epoch 19 starts:\n",
            " 200/200 [================================================================================>]  Step: 15ms | Tot: 3s174ms | Loss: 0.0085\n",
            "    Average Loss: 0.0085\n",
            " 100/100 [================================================================================>]  Step: 7ms | Tot: 834ms | PSNR: 21.3843\n",
            "    Average PSNR: 21.3843 dB\n",
            "\n",
            "===> Epoch 20 starts:\n",
            " 200/200 [================================================================================>]  Step: 14ms | Tot: 3s154ms | Loss: 0.0062\n",
            "    Average Loss: 0.0062\n",
            " 100/100 [================================================================================>]  Step: 9ms | Tot: 736ms | PSNR: 23.8507\n",
            "    Average PSNR: 23.8507 dB\n",
            "Checkpoint saved to model_path.pth\n"
          ],
          "name": "stdout"
        }
      ]
    },
    {
      "cell_type": "code",
      "metadata": {
        "id": "FpRJJbMBjrxp",
        "colab_type": "code",
        "outputId": "068ad382-c5b9-4fab-8983-5dffd05db271",
        "colab": {
          "base_uri": "https://localhost:8080/",
          "height": 125
        }
      },
      "source": [
        "%cd dataset\n",
        "!ls"
      ],
      "execution_count": 0,
      "outputs": [
        {
          "output_type": "stream",
          "text": [
            "/content/gdrive/My Drive/Colab Notebooks/FSRCNN/FSRCNN-master/dataset\n",
            "data_aug.m  dataset.py\t     generate_train.m  __init__.pyc\t  store2hdf5.m\n",
            "data.py     dataset.pyc      img_cut.py        modcrop.m\t  test\n",
            "data.pyc    generate_test.m  __init__.py       PairRandomCrop.py  train\n",
            "error: no such file, '/content/gdrive/My Drive/Colab Notebooks/FSRCNN/FSRCNN-master/dataset/dataset/data_aug.m'\n",
            "error: source: error sourcing file '/content/gdrive/My Drive/Colab Notebooks/FSRCNN/FSRCNN-master/dataset/dataset/data_aug.m'\n"
          ],
          "name": "stdout"
        }
      ]
    },
    {
      "cell_type": "code",
      "metadata": {
        "id": "WYCqCl4z-LYz",
        "colab_type": "code",
        "colab": {}
      },
      "source": [
        "#!mkdir ./dataset/BSDS300/images/val"
      ],
      "execution_count": 0,
      "outputs": []
    },
    {
      "cell_type": "code",
      "metadata": {
        "id": "mkPJ0uGsnKKF",
        "colab_type": "code",
        "outputId": "92765877-cc93-46cf-d57c-21e8ed6d0a25",
        "colab": {
          "base_uri": "https://localhost:8080/",
          "height": 107
        }
      },
      "source": [
        "!ls\n",
        "!python3 super_resolve.py"
      ],
      "execution_count": 35,
      "outputs": [
        {
          "output_type": "stream",
          "text": [
            "dataset  EDSR\t  main.py\t   __pycache__\tSRGAN\t\t  test.jpg\n",
            "DBPN\t FSRCNN   model_path.pth   README.md\tSubPixelCNN\t  VDSR\n",
            "DRCN\t LICENSE  progress_bar.py  SRCNN\tsuper_resolve.py\n",
            "Namespace(input='./dataset/BSDS300/images/val/3096.jpg', model='model_path.pth', output='test.jpg')\n",
            "output image saved to  test.jpg\n"
          ],
          "name": "stdout"
        }
      ]
    },
    {
      "cell_type": "code",
      "metadata": {
        "id": "n-264flF-pC3",
        "colab_type": "code",
        "colab": {
          "base_uri": "https://localhost:8080/",
          "height": 71
        },
        "outputId": "aca496a3-cd05-49a9-8883-cac1837bfc35"
      },
      "source": [
        "!ls"
      ],
      "execution_count": 33,
      "outputs": [
        {
          "output_type": "stream",
          "text": [
            "dataset  EDSR\t  main.py\t   __pycache__\tSRGAN\t\t  test.jpg\n",
            "DBPN\t FSRCNN   model_path.pth   README.md\tSubPixelCNN\t  VDSR\n",
            "DRCN\t LICENSE  progress_bar.py  SRCNN\tsuper_resolve.py\n"
          ],
          "name": "stdout"
        }
      ]
    },
    {
      "cell_type": "code",
      "metadata": {
        "id": "OP41QbX0IUCS",
        "colab_type": "code",
        "colab": {}
      },
      "source": [
        "#------------------------------------------------------------------------------\n",
        "# The famous data set:cats vs dogs is used in this example. The data set contains\n",
        "# 12500 dog pictures and 12500 cat pictures. All the images are shuffled randomly\n",
        "# and 20000 images are used to train, 5000 images are used to test. The images\n",
        "# can be resized to different sizes but the size of the .hdf5 file differs very\n",
        "# far depending on the size of the images. The file is 1.14G when the size of the \n",
        "# images is (128,128) and 4.57G for (256,256), 18.3G for (512,512).\n",
        "#------------------------------------------------------------------------------\n",
        "\n",
        "########################## first part: prepare data ###########################\n",
        "from random import shuffle\n",
        "import glob\n",
        "\n",
        "shuffle_data = True  # shuffle the addresses\n",
        "\n",
        "hdf5_path = './dataset/train/91.h5'  # file path for the created .hdf5 file\n",
        "\n",
        "train_path = './dataset/train/91-images/*.bmp' # the original data path\n",
        "\n",
        "# get all the image paths \n",
        "addrs = glob.glob(train_path)\n",
        "\n",
        "# label the data as 0=cat, 1=dog\n",
        "#import pdb; pdb.set_trace()\n",
        "#labels = [0 if 'cat' in addr else 1 for addr in addrs] \n",
        "labels = [1 if 't' in addr else 1 for addr in addrs]  \n",
        "\n",
        "# shuffle data\n",
        "if shuffle_data:\n",
        "    c = list(zip(addrs, labels)) # use zip() to bind the images and labels together\n",
        "    shuffle(c)\n",
        " \n",
        "    (addrs, labels) = zip(*c)  # *c is used to separate all the tuples in the list c,  \n",
        "                               # \"addrs\" then contains all the shuffled paths and \n",
        "                               # \"labels\" contains all the shuffled labels.\n",
        "                               \n",
        "# Divide the data into 80% for train and 20% for test\n",
        "train_addrs = addrs[0:int(0.8*len(addrs))]\n",
        "train_labels = labels[0:int(0.8*len(labels))]\n",
        "\n",
        "test_addrs = addrs[int(0.8*len(addrs)):]\n",
        "test_labels = labels[int(0.8*len(labels)):]\n",
        "\n",
        "##################### second part: create the h5py object #####################\n",
        "import numpy as np\n",
        "import h5py\n",
        "\n",
        "train_shape = (len(train_addrs), 128, 128, 3)\n",
        "test_shape = (len(test_addrs), 128, 128, 3)\n",
        "\n",
        "# open a hdf5 file and create earrays \n",
        "f = h5py.File(hdf5_path, mode='w')\n",
        "\n",
        "# PIL.Image: the pixels range is 0-255,dtype is uint.\n",
        "# matplotlib: the pixels range is 0-1,dtype is float.\n",
        "f.create_dataset(\"train_img\", train_shape, np.uint8)\n",
        "f.create_dataset(\"test_img\", test_shape, np.uint8)  \n",
        "\n",
        "# the \".create_dataset\" object is like a dictionary, the \"train_labels\" is the key. \n",
        "f.create_dataset(\"train_labels\", (len(train_addrs),), np.uint8)\n",
        "f[\"train_labels\"][...] = train_labels\n",
        "\n",
        "f.create_dataset(\"test_labels\", (len(test_addrs),), np.uint8)\n",
        "f[\"test_labels\"][...] = test_labels\n",
        "\n",
        "######################## third part: write the images #########################\n",
        "import cv2\n",
        "\n",
        "# loop over train paths\n",
        "for i in range(len(train_addrs)):\n",
        "  \n",
        "    if i % 1000 == 0 and i > 1:\n",
        "        print ('Train data: {}/{}'.format(i, len(train_addrs)) )\n",
        "\n",
        "    addr = train_addrs[i]\n",
        "    img = cv2.imread(addr)\n",
        "    img = cv2.resize(img, (128, 128), interpolation=cv2.INTER_CUBIC)# resize to (128,128)\n",
        "    img = cv2.cvtColor(img, cv2.COLOR_BGR2RGB) # cv2 load images as BGR, convert it to RGB\n",
        "    f[\"train_img\"][i, ...] = img[None] \n",
        "\n",
        "# loop over test paths\n",
        "for i in range(len(test_addrs)):\n",
        "\n",
        "    if i % 1000 == 0 and i > 1:\n",
        "        print ('Test data: {}/{}'.format(i, len(test_addrs)) )\n",
        "\n",
        "    addr = test_addrs[i]\n",
        "    img = cv2.imread(addr)\n",
        "    img = cv2.resize(img, (128, 128), interpolation=cv2.INTER_CUBIC)\n",
        "    img = cv2.cvtColor(img, cv2.COLOR_BGR2RGB)\n",
        "    f[\"test_img\"][i, ...] = img[None]\n",
        "\n",
        "f.close()"
      ],
      "execution_count": 0,
      "outputs": []
    },
    {
      "cell_type": "code",
      "metadata": {
        "id": "Y_OCA0IJgOof",
        "colab_type": "code",
        "colab": {}
      },
      "source": [
        ""
      ],
      "execution_count": 0,
      "outputs": []
    }
  ]
}